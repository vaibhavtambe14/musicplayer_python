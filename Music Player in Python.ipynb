{
 "cells": [
  {
   "cell_type": "code",
   "execution_count": null,
   "id": "5815cc0e",
   "metadata": {},
   "outputs": [
    {
     "name": "stdout",
     "output_type": "stream",
     "text": [
      "Simple Music Player\n",
      "\n",
      "Menu:\n",
      "1. Play music\n",
      "2. Exit\n",
      "Select an option: 1\n",
      "Enter the path to the music file: E:\\marathi song\\Songs\n",
      "Invalid file path or unsupported format.\n",
      "\n",
      "Menu:\n",
      "1. Play music\n",
      "2. Exit\n"
     ]
    }
   ],
   "source": [
    "\n",
    "\n",
    "def play_music(file_path):\n",
    "    pygame.mixer.init()\n",
    "    pygame.mixer.music.load(file_path)\n",
    "    pygame.mixer.music.play()\n",
    "\n",
    "def main():\n",
    "    print(\"Simple Music Player\")\n",
    "    \n",
    "    while True:\n",
    "        print(\"\\nMenu:\")\n",
    "        print(\"1. Play music\")\n",
    "        print(\"2. Exit\")\n",
    "        \n",
    "        choice = input(\"Select an option: \")\n",
    "        \n",
    "        if choice == \"1\":\n",
    "            music_file = input(\"Enter the path to the music file: \")\n",
    "            \n",
    "            if os.path.exists(music_file) and music_file.lower().endswith((\".mp3\", \".wav\")):\n",
    "                play_music(music_file)\n",
    "                print(\"Playing:\", music_file)\n",
    "            else:\n",
    "                print(\"Invalid file path or unsupported format.\")\n",
    "        \n",
    "        elif choice == \"2\":\n",
    "            pygame.mixer.music.stop()\n",
    "            pygame.mixer.quit()\n",
    "            print(\"Goodbye!\")\n",
    "            break\n",
    "        \n",
    "        else:\n",
    "            print(\"Invalid choice. Please select a valid option.\")\n",
    "\n",
    "if __name__ == \"__main__\":\n",
    "    main()\n"
   ]
  },
  {
   "cell_type": "code",
   "execution_count": null,
   "id": "82db6fe4",
   "metadata": {},
   "outputs": [],
   "source": []
  },
  {
   "cell_type": "code",
   "execution_count": null,
   "id": "a896d808",
   "metadata": {},
   "outputs": [],
   "source": []
  }
 ],
 "metadata": {
  "kernelspec": {
   "display_name": "Python 3 (ipykernel)",
   "language": "python",
   "name": "python3"
  },
  "language_info": {
   "codemirror_mode": {
    "name": "ipython",
    "version": 3
   },
   "file_extension": ".py",
   "mimetype": "text/x-python",
   "name": "python",
   "nbconvert_exporter": "python",
   "pygments_lexer": "ipython3",
   "version": "3.9.13"
  }
 },
 "nbformat": 4,
 "nbformat_minor": 5
}
